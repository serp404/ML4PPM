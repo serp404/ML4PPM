{
 "cells": [
  {
   "cell_type": "code",
   "execution_count": 1,
   "metadata": {
    "cellId": "tf38nw59p0c8q2cqyt8d5s"
   },
   "outputs": [],
   "source": [
    "import pandas as pd\n",
    "import numpy as np\n",
    "import torch\n",
    "import torch.nn as nn\n",
    "import torch.nn.functional as F\n",
    "import os\n",
    "import ast\n",
    "import random\n",
    "import matplotlib.pyplot as plt\n",
    "from functools import partial\n",
    "\n",
    "random.seed(42)\n",
    "np.random.seed(42)\n",
    "torch.manual_seed(42)\n",
    "torch.cuda.manual_seed(42)\n",
    "torch.backends.cudnn.deterministic = True\n",
    "torch.backends.cudnn.benchmark = False"
   ]
  },
  {
   "cell_type": "code",
   "execution_count": 27,
   "metadata": {
    "cellId": "y4cvj6drsp0heiiuodk9"
   },
   "outputs": [
    {
     "data": {
      "text/html": [
       "<div>\n",
       "<style scoped>\n",
       "    .dataframe tbody tr th:only-of-type {\n",
       "        vertical-align: middle;\n",
       "    }\n",
       "\n",
       "    .dataframe tbody tr th {\n",
       "        vertical-align: top;\n",
       "    }\n",
       "\n",
       "    .dataframe thead th {\n",
       "        text-align: right;\n",
       "    }\n",
       "</style>\n",
       "<table border=\"1\" class=\"dataframe\">\n",
       "  <thead>\n",
       "    <tr style=\"text-align: right;\">\n",
       "      <th></th>\n",
       "      <th>act_prefix</th>\n",
       "      <th>cts_prefix</th>\n",
       "      <th>act_next</th>\n",
       "      <th>cts_next</th>\n",
       "    </tr>\n",
       "  </thead>\n",
       "  <tbody>\n",
       "    <tr>\n",
       "      <th>0</th>\n",
       "      <td>[1]</td>\n",
       "      <td>['2012-04-03 16:55:38']</td>\n",
       "      <td>8</td>\n",
       "      <td>2012-04-03 16:55:53</td>\n",
       "    </tr>\n",
       "    <tr>\n",
       "      <th>1</th>\n",
       "      <td>[1]</td>\n",
       "      <td>['2011-10-24 17:55:40']</td>\n",
       "      <td>8</td>\n",
       "      <td>2011-10-24 17:56:20</td>\n",
       "    </tr>\n",
       "    <tr>\n",
       "      <th>2</th>\n",
       "      <td>[1]</td>\n",
       "      <td>['2012-04-03 00:04:30']</td>\n",
       "      <td>8</td>\n",
       "      <td>2012-04-05 15:30:00</td>\n",
       "    </tr>\n",
       "    <tr>\n",
       "      <th>3</th>\n",
       "      <td>[1]</td>\n",
       "      <td>['2012-03-21 23:50:05']</td>\n",
       "      <td>8</td>\n",
       "      <td>2012-03-22 22:24:03</td>\n",
       "    </tr>\n",
       "    <tr>\n",
       "      <th>4</th>\n",
       "      <td>[1]</td>\n",
       "      <td>['2011-07-21 17:50:37']</td>\n",
       "      <td>8</td>\n",
       "      <td>2011-07-21 17:50:49</td>\n",
       "    </tr>\n",
       "  </tbody>\n",
       "</table>\n",
       "</div>"
      ],
      "text/plain": [
       "  act_prefix               cts_prefix  act_next             cts_next\n",
       "0        [1]  ['2012-04-03 16:55:38']         8  2012-04-03 16:55:53\n",
       "1        [1]  ['2011-10-24 17:55:40']         8  2011-10-24 17:56:20\n",
       "2        [1]  ['2012-04-03 00:04:30']         8  2012-04-05 15:30:00\n",
       "3        [1]  ['2012-03-21 23:50:05']         8  2012-03-22 22:24:03\n",
       "4        [1]  ['2011-07-21 17:50:37']         8  2011-07-21 17:50:49"
      ]
     },
     "execution_count": 27,
     "metadata": {},
     "output_type": "execute_result"
    }
   ],
   "source": [
    "DATASET = 'helpdesk'\n",
    "\n",
    "train_data = pd.read_csv(f'data_flattened/{DATASET}/train.csv')\n",
    "test_data = pd.read_csv(f'data_flattened/{DATASET}/test.csv')\n",
    "val_data = pd.read_csv(f'data_flattened/{DATASET}/val.csv')\n",
    "train_data.head()"
   ]
  },
  {
   "cell_type": "markdown",
   "metadata": {},
   "source": [
    "## Process timestamps"
   ]
  },
  {
   "cell_type": "code",
   "execution_count": 29,
   "metadata": {
    "cellId": "c3shl9yw6ekey37v0apmkf"
   },
   "outputs": [
    {
     "data": {
      "text/html": [
       "<div>\n",
       "<style scoped>\n",
       "    .dataframe tbody tr th:only-of-type {\n",
       "        vertical-align: middle;\n",
       "    }\n",
       "\n",
       "    .dataframe tbody tr th {\n",
       "        vertical-align: top;\n",
       "    }\n",
       "\n",
       "    .dataframe thead th {\n",
       "        text-align: right;\n",
       "    }\n",
       "</style>\n",
       "<table border=\"1\" class=\"dataframe\">\n",
       "  <thead>\n",
       "    <tr style=\"text-align: right;\">\n",
       "      <th></th>\n",
       "      <th>act_prefix</th>\n",
       "      <th>cts_prefix</th>\n",
       "      <th>act_next</th>\n",
       "      <th>cts_next</th>\n",
       "    </tr>\n",
       "  </thead>\n",
       "  <tbody>\n",
       "    <tr>\n",
       "      <th>0</th>\n",
       "      <td>[1]</td>\n",
       "      <td>[[1.0858516260300441, 0, 1, 0, 0, 0, 0, 0, 0, ...</td>\n",
       "      <td>8</td>\n",
       "      <td>1.085852</td>\n",
       "    </tr>\n",
       "    <tr>\n",
       "      <th>1</th>\n",
       "      <td>[1]</td>\n",
       "      <td>[[0.47310774649970466, 1, 0, 0, 0, 0, 0, 0, 0,...</td>\n",
       "      <td>8</td>\n",
       "      <td>0.473109</td>\n",
       "    </tr>\n",
       "    <tr>\n",
       "      <th>2</th>\n",
       "      <td>[1]</td>\n",
       "      <td>[[1.0831950534807708, 0, 1, 0, 0, 0, 0, 0, 0, ...</td>\n",
       "      <td>8</td>\n",
       "      <td>1.093193</td>\n",
       "    </tr>\n",
       "    <tr>\n",
       "      <th>3</th>\n",
       "      <td>[1]</td>\n",
       "      <td>[[1.0377570572662635, 0, 0, 1, 0, 0, 0, 0, 0, ...</td>\n",
       "      <td>8</td>\n",
       "      <td>1.041314</td>\n",
       "    </tr>\n",
       "    <tr>\n",
       "      <th>4</th>\n",
       "      <td>[1]</td>\n",
       "      <td>[[0.11367686982801574, 0, 0, 0, 1, 0, 0, 0, 0,...</td>\n",
       "      <td>8</td>\n",
       "      <td>0.113677</td>\n",
       "    </tr>\n",
       "  </tbody>\n",
       "</table>\n",
       "</div>"
      ],
      "text/plain": [
       "  act_prefix                                         cts_prefix  act_next  \\\n",
       "0        [1]  [[1.0858516260300441, 0, 1, 0, 0, 0, 0, 0, 0, ...         8   \n",
       "1        [1]  [[0.47310774649970466, 1, 0, 0, 0, 0, 0, 0, 0,...         8   \n",
       "2        [1]  [[1.0831950534807708, 0, 1, 0, 0, 0, 0, 0, 0, ...         8   \n",
       "3        [1]  [[1.0377570572662635, 0, 0, 1, 0, 0, 0, 0, 0, ...         8   \n",
       "4        [1]  [[0.11367686982801574, 0, 0, 0, 1, 0, 0, 0, 0,...         8   \n",
       "\n",
       "   cts_next  \n",
       "0  1.085852  \n",
       "1  0.473109  \n",
       "2  1.093193  \n",
       "3  1.041314  \n",
       "4  0.113677  "
      ]
     },
     "execution_count": 29,
     "metadata": {},
     "output_type": "execute_result"
    }
   ],
   "source": [
    "from utils import date2ts, ParseDatelist, GenTimeFeatures\n",
    "\n",
    "train_data['cts_next'] = train_data['cts_next'].apply(date2ts)\n",
    "test_data['cts_next'] = test_data['cts_next'].apply(date2ts)\n",
    "val_data['cts_next'] = val_data['cts_next'].apply(date2ts)\n",
    "\n",
    "mu = np.mean(train_data['cts_next'])\n",
    "sigma = np.std(train_data['cts_next'])\n",
    "scaler = lambda x: (x - mu) / sigma\n",
    "\n",
    "parser = lambda x: ParseDatelist(x, applyer=partial(GenTimeFeatures, ts_applyer=lambda x: scaler(x // 1000000000)))\n",
    "train_data['cts_prefix'] = train_data['cts_prefix'].apply(parser)\n",
    "test_data['cts_prefix'] = test_data['cts_prefix'].apply(parser)\n",
    "val_data['cts_prefix'] = val_data['cts_prefix'].apply(parser)\n",
    "\n",
    "train_data['cts_next'] = train_data['cts_next'].apply(scaler)\n",
    "test_data['cts_next'] = test_data['cts_next'].apply(scaler)\n",
    "val_data['cts_next'] = val_data['cts_next'].apply(scaler)\n",
    "\n",
    "N_TIMEFEATURES = len(train_data.loc[0, 'cts_prefix'][0])\n",
    "\n",
    "train_data.head()"
   ]
  },
  {
   "cell_type": "markdown",
   "metadata": {},
   "source": [
    "## Process activities"
   ]
  },
  {
   "cell_type": "code",
   "execution_count": 30,
   "metadata": {
    "cellId": "lzq1u173shmd88rha5vtgh"
   },
   "outputs": [
    {
     "data": {
      "text/html": [
       "<div>\n",
       "<style scoped>\n",
       "    .dataframe tbody tr th:only-of-type {\n",
       "        vertical-align: middle;\n",
       "    }\n",
       "\n",
       "    .dataframe tbody tr th {\n",
       "        vertical-align: top;\n",
       "    }\n",
       "\n",
       "    .dataframe thead th {\n",
       "        text-align: right;\n",
       "    }\n",
       "</style>\n",
       "<table border=\"1\" class=\"dataframe\">\n",
       "  <thead>\n",
       "    <tr style=\"text-align: right;\">\n",
       "      <th></th>\n",
       "      <th>act_prefix</th>\n",
       "      <th>cts_prefix</th>\n",
       "      <th>act_next</th>\n",
       "      <th>cts_next</th>\n",
       "    </tr>\n",
       "  </thead>\n",
       "  <tbody>\n",
       "    <tr>\n",
       "      <th>0</th>\n",
       "      <td>[[1, 0, 0, 0, 0, 0, 0, 0, 0]]</td>\n",
       "      <td>[[1.0858516260300441, 0, 1, 0, 0, 0, 0, 0, 0, ...</td>\n",
       "      <td>8</td>\n",
       "      <td>1.085852</td>\n",
       "    </tr>\n",
       "    <tr>\n",
       "      <th>1</th>\n",
       "      <td>[[1, 0, 0, 0, 0, 0, 0, 0, 0]]</td>\n",
       "      <td>[[0.47310774649970466, 1, 0, 0, 0, 0, 0, 0, 0,...</td>\n",
       "      <td>8</td>\n",
       "      <td>0.473109</td>\n",
       "    </tr>\n",
       "    <tr>\n",
       "      <th>2</th>\n",
       "      <td>[[1, 0, 0, 0, 0, 0, 0, 0, 0]]</td>\n",
       "      <td>[[1.0831950534807708, 0, 1, 0, 0, 0, 0, 0, 0, ...</td>\n",
       "      <td>8</td>\n",
       "      <td>1.093193</td>\n",
       "    </tr>\n",
       "    <tr>\n",
       "      <th>3</th>\n",
       "      <td>[[1, 0, 0, 0, 0, 0, 0, 0, 0]]</td>\n",
       "      <td>[[1.0377570572662635, 0, 0, 1, 0, 0, 0, 0, 0, ...</td>\n",
       "      <td>8</td>\n",
       "      <td>1.041314</td>\n",
       "    </tr>\n",
       "    <tr>\n",
       "      <th>4</th>\n",
       "      <td>[[1, 0, 0, 0, 0, 0, 0, 0, 0]]</td>\n",
       "      <td>[[0.11367686982801574, 0, 0, 0, 1, 0, 0, 0, 0,...</td>\n",
       "      <td>8</td>\n",
       "      <td>0.113677</td>\n",
       "    </tr>\n",
       "  </tbody>\n",
       "</table>\n",
       "</div>"
      ],
      "text/plain": [
       "                      act_prefix  \\\n",
       "0  [[1, 0, 0, 0, 0, 0, 0, 0, 0]]   \n",
       "1  [[1, 0, 0, 0, 0, 0, 0, 0, 0]]   \n",
       "2  [[1, 0, 0, 0, 0, 0, 0, 0, 0]]   \n",
       "3  [[1, 0, 0, 0, 0, 0, 0, 0, 0]]   \n",
       "4  [[1, 0, 0, 0, 0, 0, 0, 0, 0]]   \n",
       "\n",
       "                                          cts_prefix  act_next  cts_next  \n",
       "0  [[1.0858516260300441, 0, 1, 0, 0, 0, 0, 0, 0, ...         8  1.085852  \n",
       "1  [[0.47310774649970466, 1, 0, 0, 0, 0, 0, 0, 0,...         8  0.473109  \n",
       "2  [[1.0831950534807708, 0, 1, 0, 0, 0, 0, 0, 0, ...         8  1.093193  \n",
       "3  [[1.0377570572662635, 0, 0, 1, 0, 0, 0, 0, 0, ...         8  1.041314  \n",
       "4  [[0.11367686982801574, 0, 0, 0, 1, 0, 0, 0, 0,...         8  0.113677  "
      ]
     },
     "execution_count": 30,
     "metadata": {},
     "output_type": "execute_result"
    }
   ],
   "source": [
    "from utils import ParseActivitylist, OneHotEncode\n",
    "\n",
    "train_data['act_prefix'] = train_data['act_prefix'].apply(ParseActivitylist)\n",
    "test_data['act_prefix'] = test_data['act_prefix'].apply(ParseActivitylist)\n",
    "val_data['act_prefix'] = val_data['act_prefix'].apply(ParseActivitylist)\n",
    "\n",
    "train_data['act_next'] = train_data['act_next'].apply(int)\n",
    "test_data['act_next'] = test_data['act_next'].apply(int)\n",
    "val_data['act_next'] = val_data['act_next'].apply(int)\n",
    "\n",
    "uniq_tokens = np.union1d(\n",
    "    train_data['act_prefix'].apply(lambda x: x[0]).unique(),\n",
    "    train_data['act_next'].unique()\n",
    ")\n",
    "\n",
    "N_TOKENS = len(uniq_tokens)\n",
    "assert np.min(uniq_tokens) == 1, \"Minimum label is not 1!\"\n",
    "assert np.max(uniq_tokens) == N_TOKENS, \"Maximum label is not N_TOKENS!\"\n",
    "\n",
    "encoder = partial(OneHotEncode, num_classes=N_TOKENS)\n",
    "\n",
    "train_data['act_prefix'] = train_data['act_prefix'].apply(encoder)\n",
    "test_data['act_prefix'] = test_data['act_prefix'].apply(encoder)\n",
    "val_data['act_prefix'] = val_data['act_prefix'].apply(encoder)\n",
    "\n",
    "train_data.head()"
   ]
  },
  {
   "cell_type": "code",
   "execution_count": 5,
   "metadata": {
    "cellId": "vryw39ivynsvh44kcdms3"
   },
   "outputs": [],
   "source": [
    "from utils import LogLoader\n",
    "\n",
    "BATCH_SIZE = 128\n",
    "\n",
    "train_loader = LogLoader(\n",
    "    data=train_data,\n",
    "    batch_size=BATCH_SIZE,\n",
    "    shuffle=False\n",
    ")\n",
    "\n",
    "test_loader = LogLoader(\n",
    "    data=test_data,\n",
    "    batch_size=BATCH_SIZE,\n",
    "    shuffle=False\n",
    ")\n",
    "\n",
    "val_loader = LogLoader(\n",
    "    data=val_data,\n",
    "    batch_size=BATCH_SIZE,\n",
    "    shuffle=False\n",
    ")\n"
   ]
  },
  {
   "cell_type": "markdown",
   "metadata": {
    "cellId": "ww2h9alesooln5trawtjwl"
   },
   "source": [
    "# Model"
   ]
  },
  {
   "cell_type": "markdown",
   "metadata": {},
   "source": [
    "## Activity prediction"
   ]
  },
  {
   "cell_type": "code",
   "execution_count": 12,
   "metadata": {
    "cellId": "wb8d0iqqnd9hklk0kp2n7"
   },
   "outputs": [
    {
     "data": {
      "application/vnd.jupyter.widget-view+json": {
       "model_id": "c0408d4fc54b4829bdb76662a0a4d793",
       "version_major": 2,
       "version_minor": 0
      },
      "text/plain": [
       "  0%|          | 0/50 [00:00<?, ?it/s]"
      ]
     },
     "metadata": {},
     "output_type": "display_data"
    },
    {
     "name": "stdout",
     "output_type": "stream",
     "text": [
      "Epoch 0 has 0.5528554070473876 accuracy.\n",
      "Epoch 5 has 0.6537059538274606 accuracy.\n",
      "Epoch 10 has 0.7825030376670717 accuracy.\n",
      "Epoch 15 has 0.7897934386391251 accuracy.\n",
      "Epoch 20 has 0.7897934386391251 accuracy.\n",
      "Epoch 25 has 0.7910085054678008 accuracy.\n",
      "Epoch 30 has 0.7946537059538274 accuracy.\n",
      "Epoch 35 has 0.7995139732685298 accuracy.\n",
      "Epoch 40 has 0.8019441069258809 accuracy.\n",
      "Epoch 45 has 0.7970838396111786 accuracy.\n",
      "Result test accuracy is 0.8019441069258809.\n"
     ]
    }
   ],
   "source": [
    "#!g1.1\n",
    "from tqdm.notebook import tqdm\n",
    "from sklearn.metrics import accuracy_score\n",
    "from utils import FocalLoss\n",
    "from models import GruLstmModel, LstmAttentionModel, LstmModel\n",
    "\n",
    "DEVICE = torch.device('cuda') if torch.cuda.is_available() else torch.device('cpu')\n",
    "N_EPOCHS = 50\n",
    "\n",
    "model = GruLstmModel(\n",
    "    vocab_size=N_TOKENS + 1,\n",
    "    output_size=N_TOKENS + 1,\n",
    "    n_features=N_TOKENS + N_TIMEFEATURES,\n",
    "    hid_size=128,\n",
    "    num_layers=1,\n",
    "    bidirectional=False,\n",
    "    embed_features=True\n",
    ").float().to(DEVICE)\n",
    "\n",
    "optimizer = torch.optim.Adam(model.parameters(), lr=0.005, weight_decay=1e-5)\n",
    "scheduler = torch.optim.lr_scheduler.StepLR(optimizer, step_size=5, gamma=0.8)\n",
    "criterion = nn.CrossEntropyLoss()\n",
    "# criterion = partial(FocalLoss, gamma=1.5)\n",
    "\n",
    "\n",
    "for epoch in tqdm(range(N_EPOCHS)):\n",
    "    model.train()\n",
    "    for batch in train_loader:\n",
    "        logits = model.forward(batch['prefix'].float().to(DEVICE))\n",
    "        loss = criterion(logits, batch['act_next'].to(DEVICE))\n",
    "        \n",
    "        optimizer.zero_grad()\n",
    "        loss.backward()\n",
    "        optimizer.step()\n",
    "    scheduler.step()\n",
    "    \n",
    "    if epoch % 5 == 0:\n",
    "        model.eval()\n",
    "        total_predicts = []\n",
    "        for batch in val_loader:\n",
    "            with torch.no_grad():\n",
    "                logits = model.forward(batch['prefix'].float().to(DEVICE)).cpu()\n",
    "            \n",
    "            predict = torch.argmax(logits, dim=1).tolist()\n",
    "            total_predicts += predict\n",
    "        print(f\"Epoch {epoch} has {accuracy_score(val_data['act_next'].tolist(), total_predicts)} accuracy.\")\n",
    "\n",
    "\n",
    "model.eval()\n",
    "total_predicts = []\n",
    "for batch in test_loader:            \n",
    "    with torch.no_grad():\n",
    "        logits = model.forward(batch['prefix'].float().to(DEVICE)).cpu()\n",
    "            \n",
    "    predict = torch.argmax(logits, dim=1).tolist()\n",
    "    total_predicts += predict\n",
    "\n",
    "print(f\"Result test accuracy is {accuracy_score(test_data['act_next'].tolist(), total_predicts)}.\")\n"
   ]
  },
  {
   "cell_type": "markdown",
   "metadata": {},
   "source": [
    "## Timestamp prediction"
   ]
  },
  {
   "cell_type": "code",
   "execution_count": 33,
   "metadata": {},
   "outputs": [
    {
     "data": {
      "application/vnd.jupyter.widget-view+json": {
       "model_id": "8f1d189037534923a0b59956dd535fd6",
       "version_major": 2,
       "version_minor": 0
      },
      "text/plain": [
       "  0%|          | 0/100 [00:00<?, ?it/s]"
      ]
     },
     "metadata": {},
     "output_type": "display_data"
    },
    {
     "name": "stdout",
     "output_type": "stream",
     "text": [
      "Epoch 0 has 0.5470096798768007 MAE.\n",
      "Epoch 5 has 0.15603680014513963 MAE.\n",
      "Epoch 10 has 0.12658346840405973 MAE.\n",
      "Epoch 15 has 0.06629205255624498 MAE.\n",
      "Epoch 20 has 0.08880101159084537 MAE.\n",
      "Epoch 25 has 0.09212989713216199 MAE.\n",
      "Epoch 30 has 0.07815449817970535 MAE.\n",
      "Epoch 35 has 0.09711598416243783 MAE.\n",
      "Epoch 40 has 0.08906492205383439 MAE.\n",
      "Epoch 45 has 0.0949381165064536 MAE.\n",
      "Epoch 50 has 0.09839507054577733 MAE.\n",
      "Epoch 55 has 0.1006583793255819 MAE.\n",
      "Epoch 60 has 0.11482738384562959 MAE.\n",
      "Epoch 65 has 0.09939385332793499 MAE.\n",
      "Epoch 70 has 0.09159804387824391 MAE.\n",
      "Epoch 75 has 0.10458166315780076 MAE.\n",
      "Epoch 80 has 0.10375312763128113 MAE.\n",
      "Epoch 85 has 0.09559130100211223 MAE.\n",
      "Epoch 90 has 0.10128935399732142 MAE.\n",
      "Epoch 95 has 0.11490961373550357 MAE.\n",
      "Result test MAE is 0.08072829478373895.\n",
      "Result test MAE (days) is 15168.034632161138.\n"
     ]
    }
   ],
   "source": [
    "#!g1.1\n",
    "from tqdm.notebook import tqdm\n",
    "from sklearn.metrics import accuracy_score, mean_absolute_error, mean_squared_error\n",
    "from utils import FocalLoss\n",
    "from models import GruLstmModel, LstmAttentionModel, LstmModel\n",
    "\n",
    "DEVICE = torch.device('cuda') if torch.cuda.is_available() else torch.device('cpu')\n",
    "N_EPOCHS = 100\n",
    "\n",
    "model = GruLstmModel(\n",
    "    vocab_size=N_TOKENS + 1,\n",
    "    output_size=1,\n",
    "    n_features=N_TOKENS + N_TIMEFEATURES,\n",
    "    hid_size=64,\n",
    "    num_layers=1,\n",
    "    bidirectional=False,\n",
    "    embed_features=True\n",
    ").float().to(DEVICE)\n",
    "\n",
    "optimizer = torch.optim.Adam(model.parameters(), lr=0.005, weight_decay=1e-5)\n",
    "scheduler = torch.optim.lr_scheduler.StepLR(optimizer, step_size=5, gamma=0.8)\n",
    "criterion = nn.MSELoss()\n",
    "\n",
    "\n",
    "for epoch in tqdm(range(N_EPOCHS)):\n",
    "    model.train()\n",
    "    for batch in train_loader:\n",
    "        logits = model.forward(batch['prefix'].float().to(DEVICE)).squeeze()\n",
    "        loss = criterion(logits, batch['cts_next'].to(DEVICE))\n",
    "        \n",
    "        optimizer.zero_grad()\n",
    "        loss.backward()\n",
    "        optimizer.step()\n",
    "    scheduler.step()\n",
    "    \n",
    "    if epoch % 10 == 0:\n",
    "        model.eval()\n",
    "        total_predicts = []\n",
    "        for batch in val_loader:\n",
    "            with torch.no_grad():\n",
    "                predict = model.forward(batch['prefix'].float().to(DEVICE)).cpu().squeeze().tolist()\n",
    "\n",
    "            total_predicts += predict\n",
    "        print(f\"Epoch {epoch} has {mean_absolute_error(val_data['cts_next'].tolist(), total_predicts)} MAE.\")\n",
    "\n",
    "\n",
    "model.eval()\n",
    "total_predicts = []\n",
    "for batch in test_loader:            \n",
    "    with torch.no_grad():\n",
    "        predict = model.forward(batch['prefix'].float().to(DEVICE)).cpu().squeeze().tolist()\n",
    "\n",
    "    total_predicts += predict\n",
    "\n",
    "test_mae = mean_absolute_error(test_data['cts_next'].tolist(), total_predicts)\n",
    "test_mae_days = (test_mae * sigma + mu) / 86400\n",
    "print(f\"Result test MAE is {test_mae}.\")\n",
    "print(f\"Result test MAE (days) is {test_mae_days}.\")\n"
   ]
  },
  {
   "cell_type": "code",
   "execution_count": null,
   "metadata": {},
   "outputs": [],
   "source": []
  }
 ],
 "metadata": {
  "kernelspec": {
   "display_name": "Python 3",
   "language": "python",
   "name": "python3"
  },
  "language_info": {
   "codemirror_mode": {
    "name": "ipython",
    "version": 3
   },
   "file_extension": ".py",
   "mimetype": "text/x-python",
   "name": "python",
   "nbconvert_exporter": "python",
   "pygments_lexer": "ipython3",
   "version": "3.8.10"
  },
  "notebookId": "d6d08c60-bcec-44fb-beb3-5463fd74120c"
 },
 "nbformat": 4,
 "nbformat_minor": 5
}
